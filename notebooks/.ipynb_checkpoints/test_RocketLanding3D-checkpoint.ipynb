{
 "cells": [
  {
   "cell_type": "code",
   "execution_count": 17,
   "id": "specialized-kentucky",
   "metadata": {},
   "outputs": [
    {
     "name": "stdout",
     "output_type": "stream",
     "text": [
      "The autoreload extension is already loaded. To reload it, use:\n",
      "  %reload_ext autoreload\n"
     ]
    }
   ],
   "source": [
    "import matplotlib.pyplot as plt\n",
    "# %matplotlib inline\n",
    "%matplotlib qt\n",
    "%load_ext autoreload\n",
    "%autoreload 2\n",
    "import numpy as np\n",
    "import time\n",
    "import random\n",
    "def print_np(x):\n",
    "    print (\"Type is %s\" % (type(x)))\n",
    "    print (\"Shape is %s\" % (x.shape,))\n",
    "#     print (\"Values are: \\n%s\" % (x))"
   ]
  },
  {
   "cell_type": "code",
   "execution_count": 2,
   "id": "divided-premium",
   "metadata": {},
   "outputs": [],
   "source": [
    "import sys\n",
    "# sys.path.append('../')\n",
    "sys.path.append('../')\n",
    "sys.path.append('../model')\n",
    "sys.path.append('../cost')\n",
    "sys.path.append('../constraints')\n",
    "import Landing3DModel\n",
    "import Landing3DCost\n",
    "import Landing3DConstraints\n",
    "from scipy.integrate import solve_ivp\n",
    "from Scvx import Scvx"
   ]
  },
  {
   "cell_type": "code",
   "execution_count": 3,
   "id": "german-ferry",
   "metadata": {},
   "outputs": [],
   "source": [
    "ix = 14\n",
    "iu = 3\n",
    "ih = 7\n",
    "delT = 0.1\n",
    "N = 50\n",
    "delT = 0.1\n",
    "max_iter = 20"
   ]
  },
  {
   "cell_type": "code",
   "execution_count": 13,
   "id": "empirical-replica",
   "metadata": {},
   "outputs": [],
   "source": [
    "xi = np.array([2,1,0,4,0,0,-1,1,0,0,0,0,0,0])\n",
    "xf = np.array([2,0,0,0,0,0,0,1,0,0,0,0,0,0])\n",
    "\n",
    "myModel = Landing3DModel.Landing3D('Hello',ix,iu,delT)\n",
    "myCost = Landing3DCost.Landing3D('Hello',ix,iu,N)\n",
    "myConst = Landing3DConstraints.Landing3D('Hello',ix,iu,ih,slice(1, 14))\n",
    "\n",
    "x0 = np.zeros((N+1,ix))\n",
    "for i in range(N+1) :\n",
    "    x0[i] = (N-i)/N * xi + i/N * xf\n",
    "\n",
    "u0 = np.zeros((N,iu))\n",
    "u0[:,2] = 2"
   ]
  },
  {
   "cell_type": "code",
   "execution_count": 14,
   "id": "better-dating",
   "metadata": {
    "scrolled": false
   },
   "outputs": [
    {
     "name": "stdout",
     "output_type": "stream",
     "text": [
      "Boundary conditions are not satisified: just accept this step\n",
      "iteration   cost        ||vc||    ||tr||    reduction    expected    w_tr\n",
      "0           0           0           0           -0.00741    -0.00741    0.0         \n",
      "Boundary conditions are not satisified: just accept this step\n",
      "1           0           8.23e-13    7.41        0.00708     0.00708     0.0         \n",
      "non-positive expected reduction\n",
      "2           0           9.17e-09    0.238       -0.000398   -0.000398   0.0         \n",
      "3           0           7.27e-08    0.000632    0.000728    0.000728    0.0         \n",
      "SUCCEESS: virtual control and trust region < tol\n"
     ]
    }
   ],
   "source": [
    "i1 = Scvx('unicycle',N,max_iter,myModel,myCost,myConst)\n",
    "x,u,xbar,ubar = i1.update(x0,u0)"
   ]
  },
  {
   "cell_type": "code",
   "execution_count": 15,
   "id": "focal-outside",
   "metadata": {},
   "outputs": [],
   "source": [
    "# x = i1.x\n",
    "# u = i1.u\n",
    "\n",
    "u_norm = np.linalg.norm(u,axis=1)"
   ]
  },
  {
   "cell_type": "code",
   "execution_count": 18,
   "id": "addressed-planner",
   "metadata": {
    "scrolled": false
   },
   "outputs": [
    {
     "data": {
      "text/plain": [
       "(0.0, 2.5)"
      ]
     },
     "execution_count": 18,
     "metadata": {},
     "output_type": "execute_result"
    }
   ],
   "source": [
    "from utils import plot_rocket3d\n",
    "from utils import make_trajectory_fig\n",
    "fig = plt.figure(1,figsize=(15,15))\n",
    "plot_rocket3d(fig,xbar,ubar,x)\n",
    "plt.figure()\n",
    "plt.plot(u_norm)\n",
    "plt.ylim([0,10])\n",
    "plt.title('u_norm')\n",
    "plt.figure()\n",
    "plt.plot(x[:,0])\n",
    "# plt.ylim([0,10])\n",
    "plt.title('mass')\n",
    "plt.ylim([0,2.5])"
   ]
  },
  {
   "cell_type": "code",
   "execution_count": null,
   "id": "eight-equipment",
   "metadata": {},
   "outputs": [],
   "source": [
    "make_trajectory_fig(x,u)"
   ]
  },
  {
   "cell_type": "code",
   "execution_count": null,
   "id": "coral-massage",
   "metadata": {},
   "outputs": [],
   "source": []
  }
 ],
 "metadata": {
  "kernelspec": {
   "display_name": "Python 3",
   "language": "python",
   "name": "python3"
  },
  "language_info": {
   "codemirror_mode": {
    "name": "ipython",
    "version": 3
   },
   "file_extension": ".py",
   "mimetype": "text/x-python",
   "name": "python",
   "nbconvert_exporter": "python",
   "pygments_lexer": "ipython3",
   "version": "3.8.5"
  }
 },
 "nbformat": 4,
 "nbformat_minor": 5
}
