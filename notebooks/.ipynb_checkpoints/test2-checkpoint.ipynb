{
 "cells": [
  {
   "cell_type": "code",
   "execution_count": 1,
   "id": "isolated-radical",
   "metadata": {},
   "outputs": [],
   "source": [
    "import matplotlib.pyplot as plt\n",
    "%matplotlib inline  \n",
    "%load_ext autoreload\n",
    "%autoreload 2\n",
    "import numpy as np\n",
    "import time\n",
    "import random\n",
    "def print_np(x):\n",
    "    print (\"Type is %s\" % (type(x)))\n",
    "    print (\"Shape is %s\" % (x.shape,))\n",
    "#     print (\"Values are: \\n%s\" % (x))"
   ]
  },
  {
   "cell_type": "code",
   "execution_count": 2,
   "id": "funny-arabic",
   "metadata": {},
   "outputs": [],
   "source": [
    "import sys\n",
    "sys.path.append('../')\n",
    "import model\n",
    "import cost\n",
    "import constraints\n",
    "from scipy.integrate import solve_ivp"
   ]
  },
  {
   "cell_type": "code",
   "execution_count": 18,
   "id": "isolated-mechanism",
   "metadata": {},
   "outputs": [],
   "source": [
    "x_t = np.zeros(3)\n",
    "x_t[0] = 0.0\n",
    "x_t[1] = 2.0\n",
    "x_t[2] = 0.0\n",
    "ix = 3\n",
    "iu = 2\n",
    "ih = 2\n",
    "N = 500\n",
    "delT = 0.1\n",
    "myModel = model.unicycle('Hello',ix,iu,delT)\n",
    "myCost = cost.unicycle('Hello',x_t,N)\n",
    "myConst = constraints.UnicycleConstraints('Hello',ix,iu,ih)\n",
    "max_iter = 100"
   ]
  },
  {
   "cell_type": "code",
   "execution_count": 19,
   "id": "powered-prophet",
   "metadata": {},
   "outputs": [],
   "source": [
    "xi = np.zeros(3)\n",
    "xi[0] = -1.0\n",
    "xi[1] = 0.0 \n",
    "xi[2] = np.pi/2\n",
    "\n",
    "xf = np.zeros(3)\n",
    "xf[0] = 0.0\n",
    "xf[1] = 2.0\n",
    "xf[2] = 0.0\n",
    "\n",
    "x0 = np.zeros((N+1,ix))\n",
    "for i in range(N+1) :\n",
    "    x0[i] = (N-i)/N * xi + i/N * xf\n",
    "# u0 = np.random.rand(N,iu)\n",
    "u0 = np.zeros((N,iu))"
   ]
  },
  {
   "cell_type": "code",
   "execution_count": 20,
   "id": "french-encounter",
   "metadata": {},
   "outputs": [],
   "source": [
    "from Scvx import Scvx"
   ]
  },
  {
   "cell_type": "code",
   "execution_count": 22,
   "id": "impossible-store",
   "metadata": {
    "scrolled": false
   },
   "outputs": [
    {
     "ename": "ValueError",
     "evalue": "could not broadcast input array from shape (500,3) into shape (500,1,3)",
     "output_type": "error",
     "traceback": [
      "\u001b[0;31m---------------------------------------------------------------------------\u001b[0m",
      "\u001b[0;31mValueError\u001b[0m                                Traceback (most recent call last)",
      "\u001b[0;32m<ipython-input-22-05efc03c7939>\u001b[0m in \u001b[0;36m<module>\u001b[0;34m\u001b[0m\n\u001b[1;32m      1\u001b[0m \u001b[0mi1\u001b[0m \u001b[0;34m=\u001b[0m \u001b[0mScvx\u001b[0m\u001b[0;34m(\u001b[0m\u001b[0;34m'unicycle'\u001b[0m\u001b[0;34m,\u001b[0m\u001b[0mN\u001b[0m\u001b[0;34m,\u001b[0m\u001b[0mmax_iter\u001b[0m\u001b[0;34m,\u001b[0m\u001b[0mmyModel\u001b[0m\u001b[0;34m,\u001b[0m\u001b[0mmyCost\u001b[0m\u001b[0;34m,\u001b[0m\u001b[0mmyConst\u001b[0m\u001b[0;34m)\u001b[0m\u001b[0;34m\u001b[0m\u001b[0;34m\u001b[0m\u001b[0m\n\u001b[0;32m----> 2\u001b[0;31m \u001b[0mx\u001b[0m\u001b[0;34m,\u001b[0m \u001b[0mu\u001b[0m \u001b[0;34m=\u001b[0m \u001b[0mi1\u001b[0m\u001b[0;34m.\u001b[0m\u001b[0mupdate\u001b[0m\u001b[0;34m(\u001b[0m\u001b[0mx0\u001b[0m\u001b[0;34m,\u001b[0m\u001b[0mu0\u001b[0m\u001b[0;34m)\u001b[0m\u001b[0;34m\u001b[0m\u001b[0;34m\u001b[0m\u001b[0m\n\u001b[0m",
      "\u001b[0;32m~/Documents/Code/Personal/Scvx/Scvx.py\u001b[0m in \u001b[0;36mupdate\u001b[0;34m(self, x0, u0)\u001b[0m\n\u001b[1;32m    185\u001b[0m                 \u001b[0mstart\u001b[0m \u001b[0;34m=\u001b[0m \u001b[0mtime\u001b[0m\u001b[0;34m.\u001b[0m\u001b[0mtime\u001b[0m\u001b[0;34m(\u001b[0m\u001b[0;34m)\u001b[0m\u001b[0;34m\u001b[0m\u001b[0;34m\u001b[0m\u001b[0m\n\u001b[1;32m    186\u001b[0m                 \u001b[0mself\u001b[0m\u001b[0;34m.\u001b[0m\u001b[0mfx\u001b[0m\u001b[0;34m,\u001b[0m \u001b[0mself\u001b[0m\u001b[0;34m.\u001b[0m\u001b[0mfu\u001b[0m \u001b[0;34m=\u001b[0m \u001b[0mself\u001b[0m\u001b[0;34m.\u001b[0m\u001b[0mmodel\u001b[0m\u001b[0;34m.\u001b[0m\u001b[0mdiff\u001b[0m\u001b[0;34m(\u001b[0m\u001b[0mself\u001b[0m\u001b[0;34m.\u001b[0m\u001b[0mx\u001b[0m\u001b[0;34m[\u001b[0m\u001b[0;36m0\u001b[0m\u001b[0;34m:\u001b[0m\u001b[0mN\u001b[0m\u001b[0;34m,\u001b[0m\u001b[0;34m:\u001b[0m\u001b[0;34m]\u001b[0m\u001b[0;34m,\u001b[0m\u001b[0mself\u001b[0m\u001b[0;34m.\u001b[0m\u001b[0mu\u001b[0m\u001b[0;34m)\u001b[0m\u001b[0;34m\u001b[0m\u001b[0;34m\u001b[0m\u001b[0m\n\u001b[0;32m--> 187\u001b[0;31m                 \u001b[0mself\u001b[0m\u001b[0;34m.\u001b[0m\u001b[0mhx\u001b[0m\u001b[0;34m[\u001b[0m\u001b[0;36m0\u001b[0m\u001b[0;34m:\u001b[0m\u001b[0mN\u001b[0m\u001b[0;34m]\u001b[0m\u001b[0;34m,\u001b[0m \u001b[0mself\u001b[0m\u001b[0;34m.\u001b[0m\u001b[0mhu\u001b[0m \u001b[0;34m=\u001b[0m \u001b[0mself\u001b[0m\u001b[0;34m.\u001b[0m\u001b[0mconst\u001b[0m\u001b[0;34m.\u001b[0m\u001b[0mdiff\u001b[0m\u001b[0;34m(\u001b[0m\u001b[0mself\u001b[0m\u001b[0;34m.\u001b[0m\u001b[0mx\u001b[0m\u001b[0;34m[\u001b[0m\u001b[0;36m0\u001b[0m\u001b[0;34m:\u001b[0m\u001b[0mN\u001b[0m\u001b[0;34m,\u001b[0m\u001b[0;34m:\u001b[0m\u001b[0;34m]\u001b[0m\u001b[0;34m,\u001b[0m\u001b[0mself\u001b[0m\u001b[0;34m.\u001b[0m\u001b[0mu\u001b[0m\u001b[0;34m)\u001b[0m\u001b[0;34m\u001b[0m\u001b[0;34m\u001b[0m\u001b[0m\n\u001b[0m\u001b[1;32m    188\u001b[0m                 \u001b[0mself\u001b[0m\u001b[0;34m.\u001b[0m\u001b[0mhx\u001b[0m\u001b[0;34m[\u001b[0m\u001b[0mN\u001b[0m\u001b[0;34m]\u001b[0m\u001b[0;34m,\u001b[0m\u001b[0m_\u001b[0m \u001b[0;34m=\u001b[0m \u001b[0mself\u001b[0m\u001b[0;34m.\u001b[0m\u001b[0mconst\u001b[0m\u001b[0;34m.\u001b[0m\u001b[0mdiff\u001b[0m\u001b[0;34m(\u001b[0m\u001b[0mself\u001b[0m\u001b[0;34m.\u001b[0m\u001b[0mx\u001b[0m\u001b[0;34m[\u001b[0m\u001b[0mN\u001b[0m\u001b[0;34m,\u001b[0m\u001b[0;34m:\u001b[0m\u001b[0;34m]\u001b[0m\u001b[0;34m,\u001b[0m\u001b[0mnp\u001b[0m\u001b[0;34m.\u001b[0m\u001b[0mzeros\u001b[0m\u001b[0;34m(\u001b[0m\u001b[0miu\u001b[0m\u001b[0;34m)\u001b[0m\u001b[0;34m)\u001b[0m\u001b[0;34m\u001b[0m\u001b[0;34m\u001b[0m\u001b[0m\n\u001b[1;32m    189\u001b[0m                 \u001b[0;31m# c_x_u = self.cost.diff_cost(self.x[0:N,:],self.u)\u001b[0m\u001b[0;34m\u001b[0m\u001b[0;34m\u001b[0m\u001b[0;34m\u001b[0m\u001b[0m\n",
      "\u001b[0;31mValueError\u001b[0m: could not broadcast input array from shape (500,3) into shape (500,1,3)"
     ]
    }
   ],
   "source": [
    "i1 = Scvx('unicycle',N,max_iter,myModel,myCost,myConst)\n",
    "x, u = i1.update(x0,u0)"
   ]
  },
  {
   "cell_type": "code",
   "execution_count": null,
   "id": "organizational-combat",
   "metadata": {},
   "outputs": [],
   "source": [
    "plt.figure(figsize=(10,10))\n",
    "fS = 18\n",
    "plt.subplot(221)\n",
    "plt.plot(x[:,0], x[:,1], linewidth=2.0)\n",
    "plt.plot(x_t[0],x_t[1],\"o\",label='goal')\n",
    "plt.gca().set_aspect('equal', adjustable='box')\n",
    "plt.axis([-2, 2, 0, 4.0])\n",
    "plt.xlabel('X (m)', fontsize = fS)\n",
    "plt.ylabel('Y (m)', fontsize = fS)\n",
    "plt.subplot(222)\n",
    "plt.plot(np.array(range(N+1))*0.1, x[:,0], linewidth=2.0,label='naive')\n",
    "plt.xlabel('time (s)', fontsize = fS)\n",
    "plt.ylabel('x1 (m)', fontsize = fS)\n",
    "plt.subplot(223)\n",
    "plt.plot(np.array(range(N+1))*0.1, x[:,1], linewidth=2.0,label='naive')\n",
    "plt.xlabel('time (s)', fontsize = fS)\n",
    "plt.ylabel('x2 (m)', fontsize = fS)\n",
    "plt.subplot(224)\n",
    "plt.plot(np.array(range(N+1))*0.1, x[:,2], linewidth=2.0,label='naive')\n",
    "plt.xlabel('time (s)', fontsize = fS)\n",
    "plt.ylabel('x3 (rad)', fontsize = fS)\n",
    "plt.legend(fontsize=fS)\n",
    "plt.show()\n",
    "\n",
    "plt.figure()\n",
    "plt.subplot(121)\n",
    "plt.plot(np.array(range(N))*0.1, u[:,0], linewidth=2.0)\n",
    "plt.xlabel('time (s)', fontsize = fS)\n",
    "plt.ylabel('v (m/s)', fontsize = fS)\n",
    "plt.subplot(122)\n",
    "plt.plot(np.array(range(N))*0.1, u[:,1], linewidth=2.0)\n",
    "plt.xlabel('time (s)', fontsize = fS)\n",
    "plt.ylabel('w (rad/s)', fontsize = fS)\n",
    "plt.show()"
   ]
  },
  {
   "cell_type": "code",
   "execution_count": null,
   "id": "apparent-lebanon",
   "metadata": {},
   "outputs": [],
   "source": [
    "a = np.vstack((np.ones((10,2)),np.zeros(2)))\n",
    "print_np(a)"
   ]
  },
  {
   "cell_type": "code",
   "execution_count": null,
   "id": "public-tower",
   "metadata": {},
   "outputs": [],
   "source": []
  }
 ],
 "metadata": {
  "kernelspec": {
   "display_name": "Python 3",
   "language": "python",
   "name": "python3"
  },
  "language_info": {
   "codemirror_mode": {
    "name": "ipython",
    "version": 3
   },
   "file_extension": ".py",
   "mimetype": "text/x-python",
   "name": "python",
   "nbconvert_exporter": "python",
   "pygments_lexer": "ipython3",
   "version": "3.8.5"
  }
 },
 "nbformat": 4,
 "nbformat_minor": 5
}
