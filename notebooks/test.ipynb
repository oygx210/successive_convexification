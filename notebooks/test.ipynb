{
 "cells": [
  {
   "cell_type": "code",
   "execution_count": 1,
   "metadata": {},
   "outputs": [],
   "source": [
    "import matplotlib.pyplot as plt\n",
    "%matplotlib inline  \n",
    "%load_ext autoreload\n",
    "%autoreload 2\n",
    "import numpy as np\n",
    "import scipy as sp\n",
    "import scipy.linalg\n",
    "import time\n",
    "import random\n",
    "def print_np(x):\n",
    "    print (\"Type is %s\" % (type(x)))\n",
    "    print (\"Shape is %s\" % (x.shape,))\n",
    "#     print (\"Values are: \\n%s\" % (x))"
   ]
  },
  {
   "cell_type": "code",
   "execution_count": 2,
   "metadata": {},
   "outputs": [],
   "source": [
    "import cvxpy as cvx"
   ]
  },
  {
   "cell_type": "code",
   "execution_count": 3,
   "metadata": {},
   "outputs": [],
   "source": [
    "import sys\n",
    "sys.path.append('../')\n",
    "import model\n",
    "import cost\n",
    "from scipy.integrate import solve_ivp"
   ]
  },
  {
   "cell_type": "code",
   "execution_count": 4,
   "metadata": {},
   "outputs": [],
   "source": [
    "x_t = np.zeros(3)\n",
    "x_t[0] = 0.0\n",
    "x_t[1] = 0.0\n",
    "x_t[2] = 0.0\n",
    "ix = 3\n",
    "iu = 2\n",
    "N = 500\n",
    "delT = 0.1\n",
    "myModel = model.unicycle('Hello',ix,iu,delT)\n",
    "myCost = cost.unicycle('Hello',x_t,N)\n",
    "maxIter= 100"
   ]
  },
  {
   "cell_type": "code",
   "execution_count": 26,
   "metadata": {},
   "outputs": [],
   "source": [
    "x0 = np.zeros(3)\n",
    "x0[0] = -1.0\n",
    "x0[1] = 0.0\n",
    "x0[2] = np.pi/2\n",
    "x = np.zeros((N+1,ix))\n",
    "x[0] = x0\n",
    "u = np.ones((N,iu))\n",
    "c = np.zeros(N+1)\n",
    "for i in range(N):\n",
    "    x[i+1,:] = myModel.forward(x[i,:],u[i,:],i)    \n",
    "    c[i] = myCost.estimate_cost(x[i,:],u[i,:])\n",
    "c[N] = myCost.estimate_cost(x[N,:],np.zeros(iu))"
   ]
  },
  {
   "cell_type": "code",
   "execution_count": 20,
   "metadata": {},
   "outputs": [],
   "source": [
    "fx = np.zeros((N,myModel.ix,myModel.ix))\n",
    "fu = np.zeros((N,myModel.ix,myModel.iu))  \n",
    "cx = np.zeros((N+1,myModel.ix))\n",
    "cu = np.zeros((N,myModel.iu))\n",
    "cxx = np.zeros((N+1,myModel.ix,myModel.ix))\n",
    "cxu = np.zeros((N,myModel.ix,myModel.iu))\n",
    "cuu = np.zeros((N,myModel.iu,myModel.iu))\n",
    "\n",
    "fx, fu = myModel.diff(x[0:N,:],u)\n",
    "c_x_u = myCost.diff_cost(x[0:N,:],u)\n",
    "c_xx_uu = myCost.hess_cost(x[0:N,:],u)\n",
    "c_xx_uu = 0.5 * ( np.transpose(c_xx_uu,(0,2,1)) + c_xx_uu )\n",
    "cx[0:N,:] = c_x_u[:,0:myModel.ix]\n",
    "cu[0:N,:] = c_x_u[:,myModel.ix:myModel.ix+myModel.iu]\n",
    "cxx[0:N,:,:] = c_xx_uu[:,0:ix,0:ix]\n",
    "cxu[0:N,:,:] = c_xx_uu[:,0:ix,ix:(ix+iu)]\n",
    "cuu[0:N,:,:] = c_xx_uu[:,ix:(ix+iu),ix:(ix+iu)]\n",
    "c_x_u = myCost.diff_cost(x[N:,:],np.zeros((1,iu)))\n",
    "c_xx_uu = myCost.hess_cost(x[N:,:],np.zeros((1,iu)))\n",
    "c_xx_uu = 0.5 * ( c_xx_uu + c_xx_uu.T)\n",
    "cx[N,:] = c_x_u[0:myModel.ix]\n",
    "cxx[N,:,:] = c_xx_uu[0:ix,0:ix]"
   ]
  },
  {
   "cell_type": "code",
   "execution_count": 21,
   "metadata": {},
   "outputs": [],
   "source": [
    "delx = cvx.Variable((N+1,3))\n",
    "delu = cvx.Variable((N,2))\n",
    "\n",
    "x_new = x + delx\n",
    "u_new = u + delu"
   ]
  },
  {
   "cell_type": "code",
   "execution_count": 22,
   "metadata": {},
   "outputs": [],
   "source": [
    "# for i in range(0,T) :\n",
    "#     constraints.append(x[i+1,:] == A@x[i,:] + B@u[i,:] + C)\n",
    "constraints = []\n",
    "constraints.append(delx[0,:] == np.zeros(ix))\n",
    "\n",
    "objective = []\n",
    "objective_quad = []\n",
    "for i in range(0,N) :\n",
    "    constraints.append(delx[i+1,:] == fx[i,:,:]@delx[i,:] + fu[i,:,:]@delu[i,:] )\n",
    "    objective.append(myCost.estimate_cost_cvx(x_new[i],u_new[i]))\n",
    "    objective_quad.append(cx[i]@delx[i] + cu[i]@delu[i] + \n",
    "                          0.5*cvx.quad_form(delx[i],cxx[i]) + \n",
    "                          0.5*cvx.quad_form(delu[i],cuu[i]))# + delx[i]@cxu[i]@delu[i])\n",
    "objective.append(myCost.estimate_cost_cvx(x_new[N],np.zeros(iu)))\n",
    "objective_quad.append(cx[N]@delx[N] + 0.5*cvx.quad_form(delx[N],cxx[N]))\n",
    "objective = cvx.sum(objective)\n",
    "objective_quad = cvx.sum(objective_quad)"
   ]
  },
  {
   "cell_type": "code",
   "execution_count": 23,
   "metadata": {},
   "outputs": [
    {
     "data": {
      "text/plain": [
       "455.6981312695738"
      ]
     },
     "execution_count": 23,
     "metadata": {},
     "output_type": "execute_result"
    }
   ],
   "source": [
    "prob = cvx.Problem(cvx.Minimize(objective), constraints)\n",
    "prob.solve()"
   ]
  },
  {
   "cell_type": "code",
   "execution_count": 24,
   "metadata": {},
   "outputs": [
    {
     "data": {
      "text/plain": [
       "-399.13213861027936"
      ]
     },
     "execution_count": 24,
     "metadata": {},
     "output_type": "execute_result"
    }
   ],
   "source": [
    "prob = cvx.Problem(cvx.Minimize(objective_quad), constraints)\n",
    "prob.solve()"
   ]
  },
  {
   "cell_type": "code",
   "execution_count": 28,
   "metadata": {},
   "outputs": [
    {
     "data": {
      "text/plain": [
       "455.6956547660821"
      ]
     },
     "execution_count": 28,
     "metadata": {},
     "output_type": "execute_result"
    }
   ],
   "source": [
    "np.sum(c) + prob.value"
   ]
  },
  {
   "cell_type": "code",
   "execution_count": 31,
   "metadata": {},
   "outputs": [
    {
     "data": {
      "text/plain": [
       "False"
      ]
     },
     "execution_count": 31,
     "metadata": {},
     "output_type": "execute_result"
    }
   ],
   "source": [
    "prob.status != 'optimal'"
   ]
  },
  {
   "cell_type": "code",
   "execution_count": null,
   "metadata": {},
   "outputs": [],
   "source": []
  },
  {
   "cell_type": "code",
   "execution_count": 11,
   "metadata": {},
   "outputs": [
    {
     "data": {
      "text/plain": [
       "Expression(UNKNOWN, ZERO, ())"
      ]
     },
     "execution_count": 11,
     "metadata": {},
     "output_type": "execute_result"
    }
   ],
   "source": [
    "delx[i]@cxu[i]@delu[i]"
   ]
  },
  {
   "cell_type": "code",
   "execution_count": null,
   "metadata": {},
   "outputs": [],
   "source": [
    "c_bar = myCost.estimate_cost(x[:N],u)\n",
    "c_bar = np.sum(c_bar) + myCost.estimate_cost(x[N],np.zeros(iu))\n",
    "\n",
    "cx_delx = np.squeeze(np.matmul(np.transpose(np.expand_dims(cx,2),(0,2,1)),np.expand_dims(delx,2)))\n",
    "cy_delu = np.squeeze(np.matmul(np.transpose(np.expand_dims(cu,2),(0,2,1)),np.expand_dims(delu,2)))\n",
    "\n",
    "delx_expand = np.expand_dims(delx,2)\n",
    "delu_expand = np.expand_dims(delu,2)\n",
    "delx_cxx_delx = 0.5*np.squeeze(np.matmul(np.matmul(np.transpose(delx_expand,(0,2,1)),cxx),delx_expand))\n",
    "delu_cuu_delu = 0.5*np.squeeze(np.matmul(np.matmul(np.transpose(delu_expand,(0,2,1)),cuu),delu_expand))\n",
    "delx_cxu_delu = 2*0.5*np.squeeze(np.matmul(np.matmul(np.transpose(delx_expand[:N],(0,2,1)),cxu),delu_expand))"
   ]
  },
  {
   "cell_type": "code",
   "execution_count": null,
   "metadata": {},
   "outputs": [],
   "source": [
    "c_new = c_bar + np.sum(cx_delx) + np.sum(cy_delu) \\\n",
    "        + np.sum(delx_cxx_delx) + np.sum(delu_cuu_delu) \\\n",
    "        + np.sum(delx_cxu_delu)\n",
    "print(c_new)"
   ]
  },
  {
   "cell_type": "code",
   "execution_count": null,
   "metadata": {},
   "outputs": [],
   "source": [
    "c_bar"
   ]
  },
  {
   "cell_type": "code",
   "execution_count": null,
   "metadata": {},
   "outputs": [],
   "source": []
  }
 ],
 "metadata": {
  "kernelspec": {
   "display_name": "Python 3",
   "language": "python",
   "name": "python3"
  },
  "language_info": {
   "codemirror_mode": {
    "name": "ipython",
    "version": 3
   },
   "file_extension": ".py",
   "mimetype": "text/x-python",
   "name": "python",
   "nbconvert_exporter": "python",
   "pygments_lexer": "ipython3",
   "version": "3.8.5"
  }
 },
 "nbformat": 4,
 "nbformat_minor": 1
}
